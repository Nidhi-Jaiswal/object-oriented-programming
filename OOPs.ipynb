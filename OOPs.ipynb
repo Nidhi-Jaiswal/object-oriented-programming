{
  "nbformat": 4,
  "nbformat_minor": 0,
  "metadata": {
    "colab": {
      "provenance": []
    },
    "kernelspec": {
      "name": "python3",
      "display_name": "Python 3"
    },
    "language_info": {
      "name": "python"
    }
  },
  "cells": [
    {
      "cell_type": "markdown",
      "source": [
        "1.What is Object-Oriented Programming?\n",
        "\n",
        "ANS: Object-Oriented Programming (OOP) is a programming paradigm based on the concept of objects, which are instances of classes. Objects represent real-world entities and combine data (attributes) and behaviors (methods) into a single unit. OOP is designed to promote modularity, reusability, and maintainability of code."
      ],
      "metadata": {
        "id": "GOQYwJt9so9g"
      }
    },
    {
      "cell_type": "markdown",
      "source": [
        "2.What is a class in OOP?\n",
        "\n",
        "ANS: Class: A blueprint or template for creating objects. It defines the attributes and methods that the objects will have."
      ],
      "metadata": {
        "id": "iL-ewYnHspAq"
      }
    },
    {
      "cell_type": "markdown",
      "source": [
        "3.What is an object in OOP?\n",
        "\n",
        "ANS: Object: An instance of a class. Each object can have its own state and behavior."
      ],
      "metadata": {
        "id": "tmgkamn9spD7"
      }
    },
    {
      "cell_type": "markdown",
      "source": [
        "4.What is the difference between abstraction and encapsulation?\n",
        "\n",
        "ANS:Abstraction:\n",
        "\n",
        "Focus: Hides the implementation details and shows only the essential features of an object or process.\n",
        "\n",
        "Purpose: To simplify complex systems by modeling classes at a high level.\n",
        "\n",
        "How: Achieved using abstract classes, interfaces, or even methods that hide their internal workings and expose only necessary functionality.\n",
        "\n",
        "Example: A car has an interface for \"driving\" (e.g., a steering wheel, accelerator, and brake) without requiring you to understand the internal workings of the engine.\n",
        "\n",
        "Encapsulation:\n",
        "\n",
        "Focus: Hides the internal state of an object and restricts access to it directly.\n",
        "\n",
        "Purpose: To protect the integrity of the data and enforce controlled access through public methods.\n",
        "\n",
        "How: Achieved using access modifiers like private, protected, and public in a class.\n",
        "\n",
        "Example: The engine of a car is encapsulated, and you interact with it through controls like the ignition button or key, not directly."
      ],
      "metadata": {
        "id": "uFhVXgUbspGv"
      }
    },
    {
      "cell_type": "markdown",
      "source": [
        "5.What are dunder methods in Python?\n",
        "\n",
        "ANS: Dunder methods (short for \"double underscore methods\") are special methods in Python that have names surrounded by double underscores, like __init__, __str__, and __add__. They are also known as magic methods or special methods. These methods allow developers to define the behavior of objects for built-in Python operations and functions.\n",
        "\n",
        "Dunder methods are not meant to be called directly; instead, they are invoked automatically by Python in specific situations. They enable you to customize your classes in a way that makes them work seamlessly with Python's built-in features."
      ],
      "metadata": {
        "id": "6oe9j-XTspJz"
      }
    },
    {
      "cell_type": "markdown",
      "source": [
        "6.Explain the concept of inheritance in OOP?\n",
        "\n",
        "ANS: Inheritance is a fundamental concept in Object-Oriented Programming (OOP) that allows a class to inherit properties (attributes) and methods (behaviors) from another class. It enables the creation of hierarchical relationships between classes, promoting code reuse and modular design."
      ],
      "metadata": {
        "id": "lmU6lUr6spM4"
      }
    },
    {
      "cell_type": "markdown",
      "source": [
        "7.What is polymorphism in OOP?\n",
        "\n",
        "ANS: Polymorphism in Object-Oriented Programming (OOP) is the ability of objects to take on many forms. It allows the same operation or function to behave differently depending on the context, typically based on the object on which it is acting.\n",
        "\n",
        "The word \"polymorphism\" comes from the Greek words \"poly\" (many) and \"morph\" (form), indicating \"many forms.\""
      ],
      "metadata": {
        "id": "cn66vqtGspP4"
      }
    },
    {
      "cell_type": "markdown",
      "source": [
        "8.How is encapsulation achieved in Python?\n",
        "\n",
        "ANS: Encapsulation in Python is achieved by bundling data (attributes) and methods (functions) within a single class and restricting access to some components of the object to protect data integrity and prevent unintended interference. This is typically done using access modifiers that control the visibility of class attributes and methods."
      ],
      "metadata": {
        "id": "Ica89-QQspTY"
      }
    },
    {
      "cell_type": "markdown",
      "source": [
        "9.What is a constructor in Python?\n",
        "\n",
        "ANS:A constructor in Python is a special method used to initialize the attributes of an object when it is created. In Python, the constructor is named __init__, and it is called automatically when an object of a class is instantiated."
      ],
      "metadata": {
        "id": "hz-aNGbSwpMf"
      }
    },
    {
      "cell_type": "markdown",
      "source": [
        "10.What are class and static methods in Python?\n",
        "\n",
        "ANS:In Python, class methods and static methods are two types of methods that provide alternative ways of interacting with classes and their data, beyond the typical instance methods. They are defined using decorators (@classmethod and @staticmethod) and have distinct use cases.\n",
        "\n",
        "Class Method:\n",
        "A class method is a method that operates on the class itself rather than on an instance of the class. It is bound to the class and has access to the class and its attributes.\n",
        "\n",
        "Key Features:\n",
        "\n",
        "Defined using the @classmethod decorator.\n",
        "\n",
        "Takes cls as the first parameter, which refers to the class itself.\n",
        "\n",
        "Can access and modify class-level attributes or call other class methods.\n",
        "\n",
        "Does not require an instance to be called and can be called on the class directly.\n",
        "\n",
        "Static Method:\n",
        "\n",
        "A static method is a method that does not operate on an instance or the class itself. It behaves like a regular function but resides within a class for logical grouping.\n",
        "\n",
        "Key Features:\n",
        "\n",
        "Defined using the @staticmethod decorator.\n",
        "\n",
        "Does not take self (instance) or cls (class) as a parameter.\n",
        "\n",
        "Cannot access or modify instance or class-level attributes directly.\n",
        "\n",
        "Can be called on the class or an instance."
      ],
      "metadata": {
        "id": "mUPAzUfzwpPt"
      }
    },
    {
      "cell_type": "markdown",
      "source": [
        "11.What is method overloading in Python?\n",
        "\n",
        "ANS: Method overloading in Python refers to the ability to define a method with the same name but different arguments. However, unlike some other programming languages (e.g., Java or C++), Python does not natively support method overloading in the traditional sense. Instead, Python achieves similar behavior through mechanisms like default arguments, variable-length arguments, or type-checking within the method.\n",
        "\n",
        "In Python, if multiple methods with the same name are defined in a class, the last defined method overrides the previous ones. This is because Python does not differentiate between methods based on their argument types or numbers\n",
        "\n"
      ],
      "metadata": {
        "id": "OYQosN1ywpS5"
      }
    },
    {
      "cell_type": "markdown",
      "source": [
        "12: What is method overriding in OOP?\n",
        "\n",
        "ANS:Method overriding in Object-Oriented Programming (OOP) refers to the ability of a subclass to provide a specific implementation of a method that is already defined in its superclass. The overridden method in the subclass must have the same name, parameters, and return type (if applicable) as the method in the superclass. When a subclass object calls the method, the subclass's implementation is executed instead of the superclass's."
      ],
      "metadata": {
        "id": "1fXhwgYn2ST0"
      }
    },
    {
      "cell_type": "markdown",
      "source": [
        "13.What is a property decorator in Python?\n",
        "\n",
        "ANS:The @property decorator in Python is used to define getter methods, which allow you to access the value of an attribute in a controlled way, as if it were a regular attribute. It allows for the encapsulation of an attribute while providing the user with a simple interface to access it.\n",
        "\n",
        "This decorator is commonly used for implementing read-only or computed properties, where the value of an attribute is not stored directly but is calculated when accessed."
      ],
      "metadata": {
        "id": "qw4bwQds2Ted"
      }
    },
    {
      "cell_type": "markdown",
      "source": [
        "14.Why is polymorphism important in OOP?\n",
        "\n",
        "ANS:Polymorphism is one of the core concepts of Object-Oriented Programming (OOP), and it plays a crucial role in enhancing the flexibility, scalability, and maintainability of software. The term polymorphism comes from Greek words meaning \"many forms,\" and in the context of OOP, it refers to the ability of different objects to respond to the same method or message in a way that is specific to their type.\n",
        "\n",
        "Code Reusability:\n",
        "\n",
        "Polymorphism allows you to write generic code that can work with objects of different classes. This means you can reuse the same method or function to operate on objects of different types, reducing the need to write repetitive code.\n",
        "\n",
        "Flexibility and Extensibility:\n",
        "\n",
        "Polymorphism promotes flexibility in the code. As new classes are added to the system (e.g., new shapes or objects), you don’t have to change the code that processes existing objects. Instead, you just need to define a new class that implements the same methods, and the rest of the code will work seamlessly.\n",
        "\n",
        "Improved Maintainability:\n",
        "\n",
        "Polymorphism helps keep code organized and easier to maintain. When you design systems based on polymorphic behavior, changes to one part of the system (like modifying the behavior of a specific object type) often don't require changes to other parts, minimizing the impact of changes.\n",
        "\n",
        "Simplifies Code Structure:\n",
        "\n",
        "Without polymorphism, you would need to write different functions or methods for each specific type of object, which can quickly lead to messy and redundant code. Polymorphism allows you to use a single function/method to handle multiple types in a clean and intuitive way."
      ],
      "metadata": {
        "id": "EnilJ7q_2Trg"
      }
    },
    {
      "cell_type": "markdown",
      "source": [
        "15:What is an abstract class in Python?\n",
        "\n",
        "ANS:\n",
        "An abstract class in Python is a class that cannot be instantiated directly. It is designed to serve as a blueprint for other classes. Abstract classes are used when you want to define a common interface for a group of subclasses, but the implementation of certain methods is left to the subclasses themselves.\n",
        "\n",
        "Abstract classes are defined using the abc (Abstract Base Class) module in Python. This module provides the ABC class and the @abstractmethod decorator, which can be used to define methods that must be implemented by any subclass of the abstract class."
      ],
      "metadata": {
        "id": "ulWOTJZA2T78"
      }
    },
    {
      "cell_type": "markdown",
      "source": [
        "16.What are the advantages of OOP?\n",
        "\n",
        "ANS:Object-Oriented Programming (OOP) offers a number of advantages that make it a preferred programming paradigm for many large-scale and complex software applications. Some of the key benefits of OOP include:\n",
        "\n",
        "1. Modularity\n",
        "Encapsulation: In OOP, data and methods are bundled together into objects. This encapsulation helps to organize code into modular components that are self-contained and can be developed, tested, and debugged independently.\n",
        "Reusability: OOP promotes the reuse of code. Once an object or class is created, it can be reused across different programs or projects. Classes can be extended or inherited to create new functionality without modifying existing code.\n",
        "2. Code Reusability\n",
        "Inheritance: OOP allows classes to inherit properties and behaviors from other classes. This means that once a class is defined, it can be reused as a base for creating new classes with additional functionality, without rewriting code. This promotes reusability and reduces redundancy.\n",
        "3. Easier Maintenance\n",
        "Encapsulation & Modularity: Since code is organized into objects and classes, OOP makes it easier to locate and modify individual components when changes are needed. This isolation makes it less likely that changes in one part of the program will affect other parts.\n",
        "Extendable and Scalable: As systems grow in size and complexity, OOP allows for easier maintenance and extension. New functionality can be added by creating new classes or subclasses, and old code does not have to be rewritten. This makes the software easier to scale."
      ],
      "metadata": {
        "id": "VuyYLLaLwpV7"
      }
    },
    {
      "cell_type": "markdown",
      "source": [
        "17.What is the difference between a class variable and an instance variable?\n",
        "\n",
        "ANS:In Object-Oriented Programming (OOP), class variables and instance variables are two types of variables that are used to store data within a class and its instances (objects). Both are important for managing state, but they differ in terms of their scope, usage, and lifetime.\n",
        "\n",
        "Class Variables:\n",
        "\n",
        "A class variable is a variable that is shared by all instances of the class. It is defined within the class but outside of any methods, typically directly under the class declaration. Class variables are common to all instances of the class, meaning that if the value of a class variable is modified, it will be reflected across all instances.\n",
        "\n",
        "Scope: Class variables are shared among all instances of the class.\n",
        "\n",
        "Defined: Typically defined at the top of the class, directly inside the class body.\n",
        "\n",
        "Access: Class variables can be accessed by the class itself or any instance of the class.\n",
        "\n",
        "Modification: Changes to class variables affect all instances of the class.\n",
        "\n",
        " Instance Variables:\n",
        "\n",
        "An instance variable is a variable that is unique to each instance of the class. Instance variables are defined within the __init__ method (the constructor) using the self keyword. Each object created from the class will have its own copy of instance variables, and modifications to these variables will not affect other instances.\n",
        "\n",
        "Scope: Instance variables are specific to the individual object (instance) of the class.\n",
        "\n",
        "Defined: Defined inside the __init__ method using the self keyword.\n",
        "\n",
        "Access: Instance variables can only be accessed through an instance of the class.\n",
        "\n",
        "Modification: Changes to instance variables affect only the specific instance."
      ],
      "metadata": {
        "id": "Dw9oOtZQwpZZ"
      }
    },
    {
      "cell_type": "markdown",
      "source": [
        "18.What is multiple inheritance in Python?\n",
        "\n",
        "ANS: Multiple inheritance in Python refers to a feature where a class can inherit attributes and methods from more than one parent class. In other words, a class can have more than one base class, and it can inherit the properties and behaviors (methods) of all those base classes. This allows for greater flexibility and code reuse in object-oriented programming (OOP)."
      ],
      "metadata": {
        "id": "j9SMLGT96G76"
      }
    },
    {
      "cell_type": "markdown",
      "source": [
        "19.Explain the purpose of ‘’__str__’ and ‘__repr__’ ‘ methods in Python?\n",
        "\n",
        "ANS:In Python, the __str__ and __repr__ methods are special (also known as \"dunder\") methods that are used to define how objects of a class should be represented as strings. While both methods deal with string representation, they serve different purposes and are used in different contexts.\n",
        "\n",
        "__str__ Method\n",
        "\n",
        "The __str__ method is used to define a human-readable or informal string representation of an object. This is typically the string representation that is displayed when you print the object or use str() on the object.\n",
        "\n",
        "Purpose: To provide a nice, user-friendly string representation of an object, aimed at making it easy to understand when printed or viewed.\n",
        "Usage: It's used by the print() function and str().\n",
        "\n",
        " __repr__ Method\n",
        "The __repr__ method is used to define a more formal or developer-focused string representation of an object. This is typically the string representation that is displayed in interactive environments (like the Python shell) or when using the repr() function.\n",
        "\n",
        "Purpose: To provide a more detailed, unambiguous, and formal string representation of an object that could, ideally, be used to recreate the object using eval(). This is often referred to as the \"official\" string representation.\n",
        "Usage: It's used by the repr() function and when objects are displayed in the interactive shell or debugger."
      ],
      "metadata": {
        "id": "13UOSvAZ6HPq"
      }
    },
    {
      "cell_type": "markdown",
      "source": [
        "20.What is the significance of the ‘super()’ function in Python?\n",
        "\n",
        "ANS:The super() function in Python is used to call methods from a parent class (also called a superclass) in a child class (also called a subclass). It allows you to invoke methods from the parent class without explicitly referring to the parent class by name, which is particularly useful in inheritance scenarios, especially with multiple inheritance.\n",
        "\n",
        "The super() function is primarily used in the following situations:\n",
        "\n",
        "To call a method from a parent class.\n",
        "\n",
        "To avoid repeating code in a subclass by using the parent class's functionality.\n",
        "\n",
        "To access the parent class's initialization methods (like the __init__ method) in the subclass.\n",
        "\n",
        "super() returns a temporary object of the superclass, allowing you to call its methods.\n",
        "\n",
        "method_name() refers to the method you want to call in the superclass.\n"
      ],
      "metadata": {
        "id": "zeBX1lxx6HcC"
      }
    },
    {
      "cell_type": "markdown",
      "source": [
        "21.What is the significance of the __del__ method in Python?\n",
        "\n",
        "ANS:The __del__ method in Python is a special method that is known as a destructor. It is automatically called when an object is about to be destroyed or deallocated, i.e., when it is no longer in use and is being removed from memory. The purpose of the __del__ method is to define any cleanup behavior that an object needs to perform before it is destroyed, such as releasing resources, closing files, or disconnecting from a network.\n",
        "\n",
        "However, it is important to note that the use of __del__ is often discouraged in Python due to its behavior being somewhat unpredictable, especially when dealing with circular references.\n",
        "\n",
        "Significance of __del__:\n",
        "\n",
        "Resource Cleanup: The primary use case for __del__ is to clean up resources that an object might have acquired during its lifetime, such as file handles, network connections, or database connections.\n",
        "\n",
        "\n",
        "Cleanup in Case of Exceptions: If an object is used in a context where exceptions might occur (e.g., network operations or database queries), the __del__ method can be used to ensure that resources are freed, even if an exception is raised.\n",
        "\n",
        "Automatic Cleanup: Python provides automatic garbage collection, and the __del__ method can be used to handle specific cleanup tasks that need to occur when an object is destroyed, allowing you to free resources without requiring manual intervention."
      ],
      "metadata": {
        "id": "mgLFTiK06Hfi"
      }
    },
    {
      "cell_type": "markdown",
      "source": [
        "22.What is the difference between @staticmethod and @classmethod in Python?\n",
        "\n",
        "ANS: In Python, @staticmethod and @classmethod are both decorators used to define methods that are not bound to an instance of the class. However, they differ in how they interact with the class and its instances.\n",
        "\n",
        "1. @staticmethod:\n",
        "A @staticmethod is a method that belongs to the class but does not have access to the instance (self) or the class (cls). It is essentially a method that behaves like a regular function but is part of the class's namespace.\n",
        "\n",
        "No access to self or cls: A static method does not take the instance or the class as its first argument. It operates like a normal function and does not have access to or modify the object's state or class-level attributes.\n",
        "\n",
        "Called on the class or instance: A static method can be called using either the class name or an instance, but it doesn't have access to the instance's attributes or the class's attributes unless explicitly passed.\n",
        "\n",
        "2. @classmethod:\n",
        "A @classmethod is a method that belongs to the class and has access to the class itself (cls), but it does not have access to the instance (self). A class method can modify the class-level attributes but cannot access or modify the instance-level attributes.\n",
        "\n",
        "Takes cls as the first argument: The first argument of a class method is always cls, which refers to the class itself. You can use this method to modify class-level attributes or perform actions related to the class.\n",
        "\n",
        "Called on the class or instance: A class method can be called using either the class name or an instance, but it primarily affects the class state and can modify class variables"
      ],
      "metadata": {
        "id": "0aSaHdLZ6HkR"
      }
    },
    {
      "cell_type": "markdown",
      "source": [
        "23.How does polymorphism work in Python with inheritance?\n",
        "\n",
        "ANS:Polymorphism in Python, especially when combined with inheritance, allows objects of different classes to be treated as objects of a common superclass while retaining their individual behaviors. This concept is fundamental in Object-Oriented Programming (OOP) and allows for dynamic method overriding and method dispatching, making it easier to work with a variety of object types in a flexible and scalable way.\n",
        "\n",
        "Polymorphism in Python is typically achieved through method overriding in the context of inheritance. Inheritance allows a subclass to inherit methods and attributes from a parent class, and polymorphism occurs when a subclass redefines (overrides) a method of the parent class. This means that even though the subclass inherits from the parent class, it can implement its own version of the inherited method.\n",
        "\n",
        "Here's how polymorphism works with inheritance:\n",
        "\n",
        "Base Class (Parent Class): The parent class provides a method, but it doesn't specify the exact behavior.\n",
        "\n",
        "Child Class (Subclass): The child class inherits from the parent class and overrides the parent method to provide a different implementation.\n",
        "\n",
        "Method Call: When the method is called on an object, Python will use the method that corresponds to the actual object's type, not the reference type (which may be a reference to the parent class)."
      ],
      "metadata": {
        "id": "GkecioHy6Hnz"
      }
    },
    {
      "cell_type": "markdown",
      "source": [
        "24.What is method chaining in Python OOP?\n",
        "\n",
        "ANS:Method chaining in Python (and in object-oriented programming in general) is a technique where multiple methods are called on the same object in a single line of code. This is made possible because each method in the chain returns the object itself (or another object of the same type), allowing successive method calls to be performed without the need to re-reference the object."
      ],
      "metadata": {
        "id": "eGFymqQ_6HrT"
      }
    },
    {
      "cell_type": "markdown",
      "source": [
        "25.What is the purpose of the __call__ method in Python?\n",
        "\n",
        "ANS:The __call__ method in Python allows an object to be called as a function. This means that instances of a class that implement the __call__ method can behave like functions. When an object is called using parentheses, Python will automatically invoke the __call__ method.\n",
        "\n",
        "This is a special method, also known as a magic method or dunder method (__call__ stands for \"double underscore call\"). By defining this method in a class, you make its instances callable, enabling more flexible and dynamic behavior in your objects."
      ],
      "metadata": {
        "id": "r6KsZG-t97fA"
      }
    },
    {
      "cell_type": "code",
      "source": [
        "#1. Create a parent class Animal with a method speak() that prints a generic message. Create a child class Dog that overrides the speak() method to print \"Bark!\".\n",
        "\n",
        "# Parent class Animal\n",
        "class Animal:\n",
        "    def speak(self):\n",
        "        print(\"Some generic animal sound\")\n",
        "\n",
        "# Child class Dog that inherits from Animal\n",
        "class Dog(Animal):\n",
        "    def speak(self):\n",
        "        print(\"Bark!\")\n",
        "\n",
        "# Create instances of Animal and Dog\n",
        "animal = Animal()\n",
        "dog = Dog()\n",
        "\n",
        "# Call the speak() method for both instances\n",
        "animal.speak()\n",
        "dog.speak()\n"
      ],
      "metadata": {
        "colab": {
          "base_uri": "https://localhost:8080/"
        },
        "id": "M0krAyjV-ZzZ",
        "outputId": "71de1695-7a32-479a-bc1b-21912c3f2e49"
      },
      "execution_count": 11,
      "outputs": [
        {
          "output_type": "stream",
          "name": "stdout",
          "text": [
            "Some generic animal sound\n",
            "Bark!\n"
          ]
        }
      ]
    },
    {
      "cell_type": "code",
      "source": [
        "#2 Write a program to create an abstract class Shape with a method area(). Derive classes Circle and Rectangle from it and implement the area() method in both.\n",
        "\n",
        "from abc import ABC, abstractmethod\n",
        "import math\n",
        "\n",
        "# Abstract class Shape\n",
        "class Shape(ABC):\n",
        "    @abstractmethod\n",
        "    def area(self):\n",
        "        pass\n",
        "\n",
        "# Derived class Circle\n",
        "class Circle(Shape):\n",
        "    def __init__(self, radius):\n",
        "        self.radius = radius\n",
        "\n",
        "    def area(self):\n",
        "        return math.pi * self.radius ** 2  # Area of circle: π * r^2\n",
        "\n",
        "# Derived class Rectangle\n",
        "class Rectangle(Shape):\n",
        "    def __init__(self, width, height):\n",
        "        self.width = width\n",
        "        self.height = height\n",
        "\n",
        "    def area(self):\n",
        "        return self.width * self.height  # Area of rectangle: width * height\n",
        "\n",
        "# Create instances of Circle and Rectangle\n",
        "circle = Circle(5)  # Circle with radius 5\n",
        "rectangle = Rectangle(4, 6)  # Rectangle with width 4 and height 6\n",
        "\n",
        "# Call the area() method for both instances\n",
        "print(f\"Area of Circle: {circle.area()}\")\n",
        "print(f\"Area of Rectangle: {rectangle.area()}\")\n"
      ],
      "metadata": {
        "colab": {
          "base_uri": "https://localhost:8080/"
        },
        "id": "bpzCtcbc-aFU",
        "outputId": "95ab7c0b-b7de-423a-9392-9a5c652114c2"
      },
      "execution_count": 10,
      "outputs": [
        {
          "output_type": "stream",
          "name": "stdout",
          "text": [
            "Area of Circle: 78.53981633974483\n",
            "Area of Rectangle: 24\n"
          ]
        }
      ]
    },
    {
      "cell_type": "code",
      "source": [
        "#3. Implement a multi-level inheritance scenario where a class Vehicle has an attribute type. Derive a class Car and further derive a class ElectricCar that adds a battery attribute.\n",
        "\n",
        "# Base class Vehicle\n",
        "class Vehicle:\n",
        "    def __init__(self, vehicle_type):\n",
        "        self.vehicle_type = vehicle_type  # Attribute for vehicle type\n",
        "\n",
        "    def display_type(self):\n",
        "        print(f\"Vehicle Type: {self.vehicle_type}\")\n",
        "\n",
        "# Derived class Car from Vehicle\n",
        "class Car(Vehicle):\n",
        "    def __init__(self, vehicle_type, make, model):\n",
        "        super().__init__(vehicle_type)  # Initialize Vehicle class\n",
        "        self.make = make  # Car make\n",
        "        self.model = model  # Car model\n",
        "\n",
        "    def display_info(self):\n",
        "        print(f\"Car Make: {self.make}, Model: {self.model}\")\n",
        "\n",
        "# Further derived class ElectricCar from Car\n",
        "class ElectricCar(Car):\n",
        "    def __init__(self, vehicle_type, make, model, battery_capacity):\n",
        "        super().__init__(vehicle_type, make, model)  # Initialize Car class\n",
        "        self.battery_capacity = battery_capacity  # Battery attribute for electric cars\n",
        "\n",
        "    def display_battery(self):\n",
        "        print(f\"Battery Capacity: {self.battery_capacity} kWh\")\n",
        "\n",
        "# Create an instance of ElectricCar\n",
        "electric_car = ElectricCar(\"Electric Vehicle\", \"Tesla\", \"Model S\", 100)\n",
        "\n",
        "# Call methods from each class\n",
        "electric_car.display_type()\n",
        "electric_car.display_info()\n",
        "electric_car.display_battery()"
      ],
      "metadata": {
        "colab": {
          "base_uri": "https://localhost:8080/"
        },
        "id": "uCThhmMl-aIh",
        "outputId": "b6676c98-0553-44dc-a201-a440516c4e4f"
      },
      "execution_count": 9,
      "outputs": [
        {
          "output_type": "stream",
          "name": "stdout",
          "text": [
            "Vehicle Type: Electric Vehicle\n",
            "Car Make: Tesla, Model: Model S\n",
            "Battery Capacity: 100 kWh\n"
          ]
        }
      ]
    },
    {
      "cell_type": "code",
      "source": [
        "#4 Implement a multi-level inheritance scenario where a class Vehicle has an attribute type. Derive a class Car and further derive a class ElectricCar that adds a battery attribute.\n",
        "\n",
        "#5 Write a program to demonstrate encapsulation by creating a class BankAccount with private attributes balance and methods to deposit, withdraw, and check balance.\n",
        "\n",
        "class BankAccount:\n",
        "    def __init__(self, initial_balance=0):\n",
        "        # Private attribute _balance to store the account balance\n",
        "        self._balance = initial_balance\n",
        "\n",
        "    # Method to deposit money into the account\n",
        "    def deposit(self, amount):\n",
        "        if amount > 0:\n",
        "            self._balance += amount\n",
        "            print(f\"Deposited {amount}. Current balance: {self._balance}\")\n",
        "        else:\n",
        "            print(\"Deposit amount must be greater than 0.\")\n",
        "\n",
        "    # Method to withdraw money from the account\n",
        "    def withdraw(self, amount):\n",
        "        if amount > 0:\n",
        "            if amount <= self._balance:\n",
        "                self._balance -= amount\n",
        "                print(f\"Withdrew {amount}. Current balance: {self._balance}\")\n",
        "            else:\n",
        "                print(\"Insufficient funds.\")\n",
        "        else:\n",
        "            print(\"Withdrawal amount must be greater than 0.\")\n",
        "\n",
        "    # Method to check the balance of the account\n",
        "    def check_balance(self):\n",
        "        print(f\"Current balance: {self._balance}\")\n",
        "\n",
        "# Create an instance of BankAccount with an initial balance\n",
        "account = BankAccount(1000)\n",
        "\n",
        "# Check balance\n",
        "account.check_balance()\n",
        "\n",
        "# Deposit money\n",
        "account.deposit(500)\n",
        "\n",
        "# Withdraw money\n",
        "account.withdraw(200)\n",
        "\n",
        "# Try to withdraw more than the available balance\n",
        "account.withdraw(1500)"
      ],
      "metadata": {
        "colab": {
          "base_uri": "https://localhost:8080/"
        },
        "id": "48H2JuoB-aMW",
        "outputId": "6b634258-67a8-455a-fb1e-fed800d03e4c"
      },
      "execution_count": 8,
      "outputs": [
        {
          "output_type": "stream",
          "name": "stdout",
          "text": [
            "Current balance: 1000\n",
            "Deposited 500. Current balance: 1500\n",
            "Withdrew 200. Current balance: 1300\n",
            "Insufficient funds.\n"
          ]
        }
      ]
    },
    {
      "cell_type": "code",
      "source": [
        "#6. Demonstrate runtime polymorphism using a method play() in a base class Instrument. Derive classes Guitar and Piano that implement their own version of play().\n",
        "\n",
        "# Base class Instrument\n",
        "class Instrument:\n",
        "    def play(self):\n",
        "        raise NotImplementedError(\"Subclass must implement this method\")\n",
        "\n",
        "# Derived class Guitar\n",
        "class Guitar(Instrument):\n",
        "    def play(self):\n",
        "        print(\"Strumming the guitar!\")\n",
        "\n",
        "# Derived class Piano\n",
        "class Piano(Instrument):\n",
        "    def play(self):\n",
        "        print(\"Playing the piano keys!\")\n",
        "\n",
        "# Create instances of Guitar and Piano\n",
        "guitar = Guitar()\n",
        "piano = Piano()\n",
        "\n",
        "# Demonstrating runtime polymorphism\n",
        "def demonstrate_play(instrument):\n",
        "    instrument.play()\n",
        "\n",
        "# Call the demonstrate_play function with different instruments\n",
        "demonstrate_play(guitar)\n",
        "demonstrate_play(piano)"
      ],
      "metadata": {
        "colab": {
          "base_uri": "https://localhost:8080/"
        },
        "id": "WAvtps-Y-aP2",
        "outputId": "06288a95-5e18-45d2-80bf-61c30a4eba01"
      },
      "execution_count": 7,
      "outputs": [
        {
          "output_type": "stream",
          "name": "stdout",
          "text": [
            "Strumming the guitar!\n",
            "Playing the piano keys!\n"
          ]
        }
      ]
    },
    {
      "cell_type": "code",
      "source": [
        "#7. Create a class MathOperations with a class method add_numbers() to add two numbers and a static method subtract_numbers() to subtract two numbers.\n",
        "\n",
        "class MathOperations:\n",
        "    # Class method to add two numbers\n",
        "    @classmethod\n",
        "    def add_numbers(cls, num1, num2):\n",
        "        return num1 + num2\n",
        "\n",
        "    # Static method to subtract two numbers\n",
        "    @staticmethod\n",
        "    def subtract_numbers(num1, num2):\n",
        "        return num1 - num2\n",
        "\n",
        "# Example usage\n",
        "# Using class method to add numbers\n",
        "sum_result = MathOperations.add_numbers(10, 5)\n",
        "print(f\"Sum: {sum_result}\")\n",
        "\n",
        "# Using static method to subtract numbers\n",
        "difference_result = MathOperations.subtract_numbers(10, 5)\n",
        "print(f\"Difference: {difference_result}\")\n"
      ],
      "metadata": {
        "colab": {
          "base_uri": "https://localhost:8080/"
        },
        "id": "P-8qhJoo-aS6",
        "outputId": "492b04e1-eb47-439e-da6c-797f6f746bb1"
      },
      "execution_count": 6,
      "outputs": [
        {
          "output_type": "stream",
          "name": "stdout",
          "text": [
            "Sum: 15\n",
            "Difference: 5\n"
          ]
        }
      ]
    },
    {
      "cell_type": "code",
      "source": [
        "#8. Implement a class Person with a class method to count the total number of persons created.\n",
        "\n",
        "class Person:\n",
        "    # Class variable to keep track of the total number of persons created\n",
        "    total_persons = 0\n",
        "\n",
        "    def __init__(self, name, age):\n",
        "        self.name = name\n",
        "        self.age = age\n",
        "        # Increment the total count each time a new person is created\n",
        "        Person.total_persons += 1\n",
        "\n",
        "    # Class method to get the total number of persons created\n",
        "    @classmethod\n",
        "    def count_persons(cls):\n",
        "        return cls.total_persons\n",
        "\n",
        "# Create instances of the Person class\n",
        "person1 = Person(\"Alice\", 30)\n",
        "person2 = Person(\"Bob\", 25)\n",
        "person3 = Person(\"Charlie\", 35)\n",
        "\n",
        "# Get the total number of persons created using the class method\n",
        "total = Person.count_persons()\n",
        "print(f\"Total persons created: {total}\")"
      ],
      "metadata": {
        "colab": {
          "base_uri": "https://localhost:8080/"
        },
        "id": "NrtVJ5da-aV2",
        "outputId": "3e93cb8c-9593-40ed-d9fa-6a92a3e5c671"
      },
      "execution_count": 5,
      "outputs": [
        {
          "output_type": "stream",
          "name": "stdout",
          "text": [
            "Total persons created: 3\n"
          ]
        }
      ]
    },
    {
      "cell_type": "code",
      "source": [
        "# 9. Write a class Fraction with attributes numerator and denominator. Override the str method to display the fraction as \"numerator/denominator\".\n",
        "\n",
        "class Fraction:\n",
        "    def __init__(self, numerator, denominator):\n",
        "        # Initialize the numerator and denominator\n",
        "        self.numerator = numerator\n",
        "        self.denominator = denominator\n",
        "\n",
        "    # Override the __str__ method to display the fraction in the format \"numerator/denominator\"\n",
        "    def __str__(self):\n",
        "        return f\"{self.numerator}/{self.denominator}\"\n",
        "\n",
        "# Create an instance of the Fraction class\n",
        "fraction = Fraction(3, 4)\n",
        "\n",
        "# Display the fraction using the __str__ method\n",
        "print(fraction)"
      ],
      "metadata": {
        "colab": {
          "base_uri": "https://localhost:8080/"
        },
        "id": "WsnHsq9m-aZA",
        "outputId": "0ac21326-7fd7-4335-8d41-46be5962b45d"
      },
      "execution_count": 4,
      "outputs": [
        {
          "output_type": "stream",
          "name": "stdout",
          "text": [
            "3/4\n"
          ]
        }
      ]
    },
    {
      "cell_type": "code",
      "source": [
        "# 10. Demonstrate operator overloading by creating a class Vector and overriding the add method to add two vectors\n",
        "\n",
        "class Vector:\n",
        "    def __init__(self, x, y):\n",
        "        self.x = x  # x component of the vector\n",
        "        self.y = y  # y component of the vector\n",
        "\n",
        "    # Overload the + operator to add two vectors\n",
        "    def __add__(self, other):\n",
        "        if isinstance(other, Vector):  # Ensure the other object is a Vector\n",
        "            return Vector(self.x + other.x, self.y + other.y)\n",
        "        return NotImplemented\n",
        "\n",
        "    # Override the __str__ method to display the vector in (x, y) format\n",
        "    def __str__(self):\n",
        "        return f\"({self.x}, {self.y})\"\n",
        "\n",
        "# Create two Vector objects\n",
        "vector1 = Vector(2, 3)\n",
        "vector2 = Vector(4, 5)\n",
        "\n",
        "# Add the two vectors using the overloaded + operator\n",
        "result = vector1 + vector2\n",
        "\n",
        "# Display the result\n",
        "print(f\"Result of vector addition: {result}\")\n"
      ],
      "metadata": {
        "colab": {
          "base_uri": "https://localhost:8080/"
        },
        "id": "Ag0dCUZx-abN",
        "outputId": "5d6252d5-6a6a-40d4-af9f-24e296a53d59"
      },
      "execution_count": 3,
      "outputs": [
        {
          "output_type": "stream",
          "name": "stdout",
          "text": [
            "Result of vector addition: (6, 8)\n"
          ]
        }
      ]
    },
    {
      "cell_type": "code",
      "source": [
        "#11. Create a class Person with attributes name and age. Add a method greet() that prints \"Hello, my name is {name} and I am {age} years old.\n",
        "\n",
        "class Person:\n",
        "    def __init__(self, name, age):\n",
        "        self.name = name  # Initialize the name attribute\n",
        "        self.age = age    # Initialize the age attribute\n",
        "\n",
        "    # Method to greet with a personalized message\n",
        "    def greet(self):\n",
        "        print(f\"Hello, my name is {self.name} and I am {self.age} years old.\")\n",
        "\n",
        "# Create an instance of the Person class\n",
        "person = Person(\"Alice\", 30)\n",
        "\n",
        "# Call the greet method\n",
        "person.greet()  # Output: Hello, my name is Alice and I am 30 years old.\n"
      ],
      "metadata": {
        "colab": {
          "base_uri": "https://localhost:8080/"
        },
        "id": "bxrgEzp_-aeB",
        "outputId": "09ea013d-95bf-4aa1-9abe-65021cd2b020"
      },
      "execution_count": 12,
      "outputs": [
        {
          "output_type": "stream",
          "name": "stdout",
          "text": [
            "Hello, my name is Alice and I am 30 years old.\n"
          ]
        }
      ]
    },
    {
      "cell_type": "code",
      "source": [
        "# 12. Implement a class Student with attributes name and grades. Create a method average_grade() to compute the average of the grades.\n",
        "\n",
        "class Student:\n",
        "    def __init__(self, name, grades):\n",
        "        self.name = name      # Initialize the name attribute\n",
        "        self.grades = grades  # Initialize the grades attribute, which is a list of grades\n",
        "\n",
        "    # Method to compute the average grade\n",
        "    def average_grade(self):\n",
        "        if len(self.grades) == 0:\n",
        "            return 0  # Avoid division by zero if no grades are available\n",
        "        return sum(self.grades) / len(self.grades)\n",
        "\n",
        "# Create an instance of the Student class\n",
        "student = Student(\"Alice\", [85, 90, 78, 92, 88])\n",
        "\n",
        "# Call the average_grade method\n",
        "avg_grade = student.average_grade()\n",
        "\n",
        "# Print the average grade\n",
        "print(f\"{student.name}'s average grade is: {avg_grade:.2f}\")"
      ],
      "metadata": {
        "colab": {
          "base_uri": "https://localhost:8080/"
        },
        "id": "hfEuMKRc-ahN",
        "outputId": "41e4eb00-767a-4c26-a601-b289c0e297ef"
      },
      "execution_count": 13,
      "outputs": [
        {
          "output_type": "stream",
          "name": "stdout",
          "text": [
            "Alice's average grade is: 86.60\n"
          ]
        }
      ]
    },
    {
      "cell_type": "code",
      "source": [
        "#13. Create a class Rectangle with methods set_dimensions() to set the dimensions and area() to calculate the area.\n",
        "\n",
        "class Rectangle:\n",
        "    def __init__(self):\n",
        "        self.length = 0  # Initialize the length to 0\n",
        "        self.width = 0   # Initialize the width to 0\n",
        "\n",
        "    # Method to set the dimensions of the rectangle\n",
        "    def set_dimensions(self, length, width):\n",
        "        self.length = length  # Set the length\n",
        "        self.width = width    # Set the width\n",
        "\n",
        "    # Method to calculate the area of the rectangle\n",
        "    def area(self):\n",
        "        return self.length * self.width  # Area = length * width\n",
        "\n",
        "# Create an instance of the Rectangle class\n",
        "rectangle = Rectangle()\n",
        "\n",
        "# Set the dimensions using the set_dimensions method\n",
        "rectangle.set_dimensions(5, 10)\n",
        "\n",
        "# Calculate and display the area using the area method\n",
        "print(f\"The area of the rectangle is: {rectangle.area()}\")"
      ],
      "metadata": {
        "colab": {
          "base_uri": "https://localhost:8080/"
        },
        "id": "WJaKT0uB-akD",
        "outputId": "9eb36da4-9ad5-4a5e-c0c3-42ad84b24ddd"
      },
      "execution_count": 14,
      "outputs": [
        {
          "output_type": "stream",
          "name": "stdout",
          "text": [
            "The area of the rectangle is: 50\n"
          ]
        }
      ]
    },
    {
      "cell_type": "code",
      "source": [
        "#14. Create a class Employee with a method calculate_salary() that computes the salary based on hours worked and hourly rate. Create a derived class Manager that adds a bonus to the salary.\n",
        "\n",
        "class Employee:\n",
        "    def __init__(self, name, hours_worked, hourly_rate):\n",
        "        self.name = name\n",
        "        self.hours_worked = hours_worked\n",
        "        self.hourly_rate = hourly_rate\n",
        "\n",
        "    # Method to calculate the salary based on hours worked and hourly rate\n",
        "    def calculate_salary(self):\n",
        "        return self.hours_worked * self.hourly_rate\n",
        "\n",
        "class Manager(Employee):\n",
        "    def __init__(self, name, hours_worked, hourly_rate, bonus):\n",
        "        # Initialize the attributes of the parent class (Employee)\n",
        "        super().__init__(name, hours_worked, hourly_rate)\n",
        "        self.bonus = bonus\n",
        "\n",
        "    # Override the calculate_salary method to add a bonus to the salary\n",
        "    def calculate_salary(self):\n",
        "        base_salary = super().calculate_salary()  # Get the base salary from Employee class\n",
        "        return base_salary + self.bonus  # Add the bonus to the base salary\n",
        "\n",
        "# Create an instance of Employee\n",
        "employee = Employee(\"Alice\", 160, 25)\n",
        "\n",
        "# Create an instance of Manager\n",
        "manager = Manager(\"Bob\", 160, 30, 500)\n",
        "\n",
        "# Calculate and print the salaries\n",
        "print(f\"{employee.name}'s salary: ${employee.calculate_salary()}\")\n",
        "print(f\"{manager.name}'s salary (with bonus): ${manager.calculate_salary()}\")\n"
      ],
      "metadata": {
        "colab": {
          "base_uri": "https://localhost:8080/"
        },
        "id": "YghqwDc5-am4",
        "outputId": "7ba164cf-f760-43bc-a0d3-07e56a61937e"
      },
      "execution_count": 15,
      "outputs": [
        {
          "output_type": "stream",
          "name": "stdout",
          "text": [
            "Alice's salary: $4000\n",
            "Bob's salary (with bonus): $5300\n"
          ]
        }
      ]
    },
    {
      "cell_type": "code",
      "source": [
        "#15. Create a class Product with attributes name, price, and quantity. Implement a method total_price() that calculates the total price of the product.\n",
        "\n",
        "class Product:\n",
        "    def __init__(self, name, price, quantity):\n",
        "        self.name = name      # Initialize the name of the product\n",
        "        self.price = price    # Initialize the price of the product\n",
        "        self.quantity = quantity  # Initialize the quantity of the product\n",
        "\n",
        "    # Method to calculate the total price of the product\n",
        "    def total_price(self):\n",
        "        return self.price * self.quantity  # Total price = price * quantity\n",
        "\n",
        "# Create an instance of the Product class\n",
        "product = Product(\"Laptop\", 1000, 3)\n",
        "\n",
        "# Calculate and display the total price using the total_price method\n",
        "print(f\"The total price of {product.name} is: ${product.total_price()}\")"
      ],
      "metadata": {
        "colab": {
          "base_uri": "https://localhost:8080/"
        },
        "id": "A_4-9QJ--apq",
        "outputId": "5091882e-22fc-4b50-ed06-f64a66ccd993"
      },
      "execution_count": 19,
      "outputs": [
        {
          "output_type": "stream",
          "name": "stdout",
          "text": [
            "The total price of Laptop is: $3000\n"
          ]
        }
      ]
    },
    {
      "cell_type": "code",
      "source": [
        "#16. Create a class Animal with an abstract method sound(). Create two derived classes Cow and Sheep that implement the sound() method.\n",
        "\n",
        "from abc import ABC, abstractmethod\n",
        "\n",
        "# Abstract base class Animal\n",
        "class Animal(ABC):\n",
        "    @abstractmethod\n",
        "    def sound(self):\n",
        "        pass  # Abstract method that must be implemented in derived classes\n",
        "\n",
        "# Derived class Cow\n",
        "class Cow(Animal):\n",
        "    def sound(self):\n",
        "        return \"Moo\"  # Implementing the sound() method for Cow\n",
        "\n",
        "# Derived class Sheep\n",
        "class Sheep(Animal):\n",
        "    def sound(self):\n",
        "        return \"Baa\"  # Implementing the sound() method for Sheep\n",
        "\n",
        "# Create instances of Cow and Sheep\n",
        "cow = Cow()\n",
        "sheep = Sheep()\n",
        "\n",
        "# Call the sound() method for each instance\n",
        "print(f\"Cow sound: {cow.sound()}\")\n",
        "print(f\"Sheep sound: {sheep.sound()}\")"
      ],
      "metadata": {
        "colab": {
          "base_uri": "https://localhost:8080/"
        },
        "id": "wt2z-koG-atN",
        "outputId": "17ab2b50-fb12-44c5-fa9d-0cbaf1dced70"
      },
      "execution_count": 16,
      "outputs": [
        {
          "output_type": "stream",
          "name": "stdout",
          "text": [
            "Cow sound: Moo\n",
            "Sheep sound: Baa\n"
          ]
        }
      ]
    },
    {
      "cell_type": "code",
      "source": [
        "#17. Create a class Book with attributes title, author, and year_published. Add a method get_book_info() thatreturns a formatted string with the book's details.\n",
        "\n",
        "class Book:\n",
        "    def __init__(self, title, author, year_published):\n",
        "        self.title = title            # Initialize the title of the book\n",
        "        self.author = author          # Initialize the author of the book\n",
        "        self.year_published = year_published  # Initialize the publication year\n",
        "\n",
        "    # Method to return the book's details as a formatted string\n",
        "    def get_book_info(self):\n",
        "        return f\"Title: {self.title}\\nAuthor: {self.author}\\nYear Published: {self.year_published}\"\n",
        "\n",
        "# Create an instance of the Book class\n",
        "book = Book(\"To Kill a Mockingbird\", \"Harper Lee\", 1960)\n",
        "\n",
        "# Call the get_book_info method and display the result\n",
        "print(book.get_book_info())"
      ],
      "metadata": {
        "colab": {
          "base_uri": "https://localhost:8080/"
        },
        "id": "6RHJysDW-ayr",
        "outputId": "cbe47b9a-f9ce-4622-f054-c370ab7ff866"
      },
      "execution_count": 18,
      "outputs": [
        {
          "output_type": "stream",
          "name": "stdout",
          "text": [
            "Title: To Kill a Mockingbird\n",
            "Author: Harper Lee\n",
            "Year Published: 1960\n"
          ]
        }
      ]
    },
    {
      "cell_type": "code",
      "source": [
        "#18. Create a class House with attributes address and price. Create a derived class Mansion that adds an attribute number_of_rooms.\n",
        "\n",
        "# Base class House\n",
        "class House:\n",
        "    def __init__(self, address, price):\n",
        "        self.address = address  # Initialize the address of the house\n",
        "        self.price = price      # Initialize the price of the house\n",
        "\n",
        "    # Method to display house details\n",
        "    def get_house_details(self):\n",
        "        return f\"Address: {self.address}\\nPrice: ${self.price}\"\n",
        "\n",
        "# Derived class Mansion\n",
        "class Mansion(House):\n",
        "    def __init__(self, address, price, number_of_rooms):\n",
        "        # Initialize the attributes of the parent class (House)\n",
        "        super().__init__(address, price)\n",
        "        self.number_of_rooms = number_of_rooms  # Initialize the number of rooms attribute\n",
        "\n",
        "    # Method to display mansion details including the number of rooms\n",
        "    def get_mansion_details(self):\n",
        "        house_details = self.get_house_details()  # Get house details from the parent class\n",
        "        return f\"{house_details}\\nNumber of Rooms: {self.number_of_rooms}\"\n",
        "\n",
        "# Create an instance of the House class\n",
        "house = House(\"123 Oak Street\", 250000)\n",
        "\n",
        "# Create an instance of the Mansion class\n",
        "mansion = Mansion(\"456 Beverly Hills\", 5000000, 12)\n",
        "\n",
        "# Display the house details\n",
        "print(\"House Details:\")\n",
        "print(house.get_house_details())\n",
        "\n",
        "# Display the mansion details\n",
        "print(\"\\nMansion Details:\")\n",
        "print(mansion.get_mansion_details())"
      ],
      "metadata": {
        "colab": {
          "base_uri": "https://localhost:8080/"
        },
        "id": "Um6z3j0n-bBM",
        "outputId": "fa33e462-aaa9-4e0f-ef8f-f36404404c38"
      },
      "execution_count": 17,
      "outputs": [
        {
          "output_type": "stream",
          "name": "stdout",
          "text": [
            "House Details:\n",
            "Address: 123 Oak Street\n",
            "Price: $250000\n",
            "\n",
            "Mansion Details:\n",
            "Address: 456 Beverly Hills\n",
            "Price: $5000000\n",
            "Number of Rooms: 12\n"
          ]
        }
      ]
    }
  ]
}